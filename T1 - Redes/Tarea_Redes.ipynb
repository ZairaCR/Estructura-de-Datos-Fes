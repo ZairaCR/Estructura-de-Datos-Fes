{
  "nbformat": 4,
  "nbformat_minor": 0,
  "metadata": {
    "colab": {
      "name": "Tarea Redes.ipynb",
      "provenance": [],
      "collapsed_sections": []
    },
    "kernelspec": {
      "name": "python3",
      "display_name": "Python 3"
    },
    "language_info": {
      "name": "python"
    }
  },
  "cells": [
    {
      "cell_type": "code",
      "execution_count": 103,
      "metadata": {
        "colab": {
          "base_uri": "https://localhost:8080/"
        },
        "id": "Z1W70uh14C0O",
        "outputId": "2d409ca2-6e4b-4f92-faa5-fd4fc4ef1579"
      },
      "outputs": [
        {
          "output_type": "stream",
          "name": "stdout",
          "text": [
            "Diferencia de Followers entre Enero y Junio: 5092 \n",
            "\n",
            "Comparacion de visualizciones de Youtube \n",
            "\n",
            "Meses: \n",
            " Enero   : 1  \n",
            " Febrero : 2 \n",
            " Marzo   : 3 \n",
            " Abril   : 4   \n",
            " Mayo    : 5 \n",
            " Junio   : 6 \n",
            "\n",
            "Introduce el numero de los meses que quieras comparar\n",
            "Mes 1: \n",
            "1\n",
            "Mes 2: \n",
            "3\n",
            "\n",
            "Diferencia de Followers entre Yotube: 5092 \n",
            "\n",
            "Promedio de crecimiento de Facebook de enero a junio:  1100.8 %\n",
            "Promedio de crecimiento de Twitter de enero a junio:  32.2 %\n"
          ]
        }
      ],
      "source": [
        "import pandas as pd\n",
        "Base = pd.read_csv('/content/presenciaredes.csv')\n",
        "\n",
        "Followers_Enero = int (Base.iloc[7, 3])\n",
        "Followers_Junio = int (Base.iloc[7, 8])\n",
        "\n",
        "Diferencia_T = (Followers_Junio - Followers_Enero )\n",
        "print( \"Diferencia de Followers entre Enero y Junio:\", Diferencia_T, \"\\n\" )\n",
        "\n",
        "print(\"Comparacion de visualizciones de Youtube \\n\")\n",
        "print(\"Meses: \\n Enero   : 1  \\n Febrero : 2 \\n Marzo   : 3 \\n Abril   : 4   \\n Mayo    : 5 \\n Junio   : 6 \")\n",
        "print(\"\\nIntroduce el numero de los meses que quieras comparar\")\n",
        "\n",
        "print(\"Mes 1: \")\n",
        "mes1 = int (input())\n",
        "mes1 = (mes1 +2)\n",
        "\n",
        "print(\"Mes 2: \")\n",
        "mes2 = int (input())\n",
        "mes2 = (mes2 +2)\n",
        "\n",
        "Diferencia_Y = (mes1 - mes2 )\n",
        "print( \"\\nDiferencia de Followers entre Yotube:\", Diferencia_T, \"\\n\" )\n",
        "\n",
        "\n",
        "Valor_Pasado_F = float (Base.iloc[1, 3])\n",
        "Valor_Presesnte_F = float (Base.iloc[1, 8])\n",
        "Promedio_CF = round((((Valor_Presesnte_F - Valor_Pasado_F)/Valor_Pasado_F)*100),1)\n",
        "print(\"Promedio de crecimiento de Facebook de enero a junio: \",Promedio_CF, \"%\" )\n",
        "\n",
        "Valor_Pasado_T = float (Base.iloc[8, 3])\n",
        "Valor_Presesnte_T = float (Base.iloc[8, 8])\n",
        "Promedio_CT = round((((Valor_Presesnte_T - Valor_Pasado_T)/Valor_Pasado_T)*100),1)\n",
        "print(\"Promedio de crecimiento de Twitter de enero a junio: \",Promedio_CT, \"%\" )\n",
        "\n",
        "\n",
        "\n",
        "\n",
        "\n"
      ]
    }
  ]
}